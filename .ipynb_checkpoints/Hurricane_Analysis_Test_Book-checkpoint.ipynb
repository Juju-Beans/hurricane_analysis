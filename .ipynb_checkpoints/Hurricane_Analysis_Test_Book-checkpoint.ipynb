{
 "cells": [
  {
   "cell_type": "code",
   "execution_count": 228,
   "id": "40e49c22",
   "metadata": {},
   "outputs": [
    {
     "data": {
      "text/plain": [
       "['Damages not recorded',\n",
       " 1000100.0,\n",
       " 'Damages not recorded',\n",
       " 1000040.0,\n",
       " 1000027.9,\n",
       " 1000005.0,\n",
       " 'Damages not recorded',\n",
       " 1000306.0,\n",
       " 1000002.0,\n",
       " 1000065.8,\n",
       " 1000326.0,\n",
       " 1000060.3,\n",
       " 1000208.0,\n",
       " 1000000001.42,\n",
       " 1000025.4,\n",
       " 'Damages not recorded',\n",
       " 1000000001.54,\n",
       " 1000000001.24,\n",
       " 1000000007.1,\n",
       " 1000000010.0,\n",
       " 1000000026.5,\n",
       " 1000000006.2,\n",
       " 1000000005.37,\n",
       " 1000000023.3,\n",
       " 1000000001.01,\n",
       " 1000000125.0,\n",
       " 1000000012.0,\n",
       " 1000000029.4,\n",
       " 1000000001.76,\n",
       " 1000720.0,\n",
       " 1000000015.1,\n",
       " 1000000064.8,\n",
       " 1000000091.6,\n",
       " 1000000025.1]"
      ]
     },
     "execution_count": 228,
     "metadata": {},
     "output_type": "execute_result"
    }
   ],
   "source": [
    "damages = ['Damages not recorded', '100M', 'Damages not recorded', '40M', '27.9M', '5M', 'Damages not recorded', '306M', '2M', '65.8M', '326M', '60.3M', '208M', '1.42B', '25.4M', 'Damages not recorded', '1.54B', '1.24B', '7.1B', '10B', '26.5B', '6.2B', '5.37B', '23.3B', '1.01B', '125B', '12B', '29.4B', '1.76B', '720M', '15.1B', '64.8B', '91.6B', '25.1B']\n",
    "conversion = {\"M\": 1000000, \"B\": 1000000000}\n",
    "updated_damages = []\n",
    "\n",
    "def update_damages(new_dam):\n",
    "    \n",
    "    #convert damages list string elements into floats or keep as strings if \"Damages not recorded\" and insert into new list\n",
    "    for num in range(len(damages)):\n",
    "        if damages[num] == \"Damages not recorded\":\n",
    "            updated_damages.insert(len(updated_damages), \"Damages not recorded\")\n",
    "        elif damages[num][-1] == \"M\":\n",
    "            x = float(damages[num][:-1])\n",
    "            y = conversion[\"M\"]\n",
    "            updated_damages.insert(len(updated_damages),(x+y))\n",
    "        elif damages[num][-1] == \"B\":\n",
    "            a = float(damages[num][:-1])\n",
    "            b = conversion[\"B\"]\n",
    "            updated_damages.insert(len(updated_damages), (a+b))    \n",
    "    return updated_damages\n",
    "\n",
    "    #add new damages to updated_damages list\n",
    "    if not (new_dam in damages and new_dam in updated_damages):\n",
    "        if new_dam[:-1] == \"M\":\n",
    "            c = float(new_dam[:-1])\n",
    "            d = conversion[\"M\"]\n",
    "            updated_damages.insert(len(updated_damages), (c+d))\n",
    "        elif new_dam[:-1] == \"B\":\n",
    "            e = float(new_dam[:-1])\n",
    "            f = conversion[\"B\"]\n",
    "            updated_damages.insert(len(updated_damages), (e+f))                \n",
    "    \n",
    "    return updated_damages\n",
    "\n",
    "\n",
    "\n",
    "update_damages(\"56.4B\")"
   ]
  }
 ],
 "metadata": {
  "kernelspec": {
   "display_name": "Python 3",
   "language": "python",
   "name": "python3"
  },
  "language_info": {
   "codemirror_mode": {
    "name": "ipython",
    "version": 3
   },
   "file_extension": ".py",
   "mimetype": "text/x-python",
   "name": "python",
   "nbconvert_exporter": "python",
   "pygments_lexer": "ipython3",
   "version": "3.7.10"
  }
 },
 "nbformat": 4,
 "nbformat_minor": 5
}
